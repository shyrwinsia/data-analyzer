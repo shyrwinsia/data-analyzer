{
 "metadata": {
  "language_info": {
   "codemirror_mode": {
    "name": "ipython",
    "version": 3
   },
   "file_extension": ".py",
   "mimetype": "text/x-python",
   "name": "python",
   "nbconvert_exporter": "python",
   "pygments_lexer": "ipython3",
   "version": "3.7.6-final"
  },
  "orig_nbformat": 2,
  "kernelspec": {
   "name": "python_defaultSpec_1601305095402",
   "display_name": "Python 3.7.6 64-bit ('base': conda)"
  }
 },
 "nbformat": 4,
 "nbformat_minor": 2,
 "cells": [
  {
   "cell_type": "code",
   "execution_count": 1,
   "metadata": {},
   "outputs": [],
   "source": [
    "# Import\n",
    "import requests\n",
    "import pandas as pd\n",
    "import numpy as np\n",
    "import sys\n",
    "import os.path"
   ]
  },
  {
   "cell_type": "code",
   "execution_count": 2,
   "metadata": {
    "tags": []
   },
   "outputs": [],
   "source": [
    "df = pd.read_csv(\"../data/report.txt\", sep='\\t')\n",
    "df.drop_duplicates(inplace=True)\n",
    "df.dropna(subset=[\"state\", \"status\"], inplace=True)"
   ]
  },
  {
   "cell_type": "code",
   "execution_count": 3,
   "metadata": {
    "tags": []
   },
   "outputs": [],
   "source": [
    "summary = (\n",
    "pd.DataFrame(df[[\"state\", \"status\"]].state.value_counts())\n",
    ".reset_index()\n",
    ".rename(columns={\"index\": \"state\", \"state\": \"count\"})\n",
    ")"
   ]
  },
  {
   "cell_type": "code",
   "execution_count": 4,
   "metadata": {
    "tags": []
   },
   "outputs": [],
   "source": [
    "details = pd.DataFrame(\n",
    "{\"count\": df[[\"state\", \"status\"]].groupby([\"state\", \"status\"]).size()}\n",
    ").reset_index()"
   ]
  },
  {
   "cell_type": "code",
   "execution_count": 30,
   "metadata": {},
   "outputs": [
    {
     "output_type": "execute_result",
     "data": {
      "text/plain": "            date      time state\n1918  2020-08-17  09:30:16    MI\n1939  2020-08-17  09:44:32    GA\n1618  2020-08-17  09:46:48    MI\n1603  2020-08-17  09:47:25    IN\n799   2020-08-17  10:19:35    OH\n734   2020-08-17  10:21:51    MI\n7521  2020-08-17  11:38:13    MA\n7235  2020-08-17  11:52:19    MI\n7134  2020-08-17  11:57:47    MI\n6852  2020-08-17  12:13:40    MO\n6666  2020-08-17  12:23:30    MT\n6407  2020-08-17  14:01:06    NJ\n6296  2020-08-17  14:35:40    NV\n6154  2020-08-17  14:43:57    NY\n5638  2020-08-17  15:13:11    PA\n4913  2020-08-17  16:20:10    TX\n1968  2020-08-17  16:34:59    OH\n5628  2020-08-17  16:45:40    PA\n1971  2020-08-17  17:01:49    OH\n8540  2020-08-17  17:05:20    IL\n4511  2020-08-17  17:21:12    TX\n2970  2020-08-17  17:40:59    CT\n2824  2020-08-17  17:49:26    FL\n2765  2020-08-17  17:53:58    FL",
      "text/html": "<div>\n<style scoped>\n    .dataframe tbody tr th:only-of-type {\n        vertical-align: middle;\n    }\n\n    .dataframe tbody tr th {\n        vertical-align: top;\n    }\n\n    .dataframe thead th {\n        text-align: right;\n    }\n</style>\n<table border=\"1\" class=\"dataframe\">\n  <thead>\n    <tr style=\"text-align: right;\">\n      <th></th>\n      <th>date</th>\n      <th>time</th>\n      <th>state</th>\n    </tr>\n  </thead>\n  <tbody>\n    <tr>\n      <th>1918</th>\n      <td>2020-08-17</td>\n      <td>09:30:16</td>\n      <td>MI</td>\n    </tr>\n    <tr>\n      <th>1939</th>\n      <td>2020-08-17</td>\n      <td>09:44:32</td>\n      <td>GA</td>\n    </tr>\n    <tr>\n      <th>1618</th>\n      <td>2020-08-17</td>\n      <td>09:46:48</td>\n      <td>MI</td>\n    </tr>\n    <tr>\n      <th>1603</th>\n      <td>2020-08-17</td>\n      <td>09:47:25</td>\n      <td>IN</td>\n    </tr>\n    <tr>\n      <th>799</th>\n      <td>2020-08-17</td>\n      <td>10:19:35</td>\n      <td>OH</td>\n    </tr>\n    <tr>\n      <th>734</th>\n      <td>2020-08-17</td>\n      <td>10:21:51</td>\n      <td>MI</td>\n    </tr>\n    <tr>\n      <th>7521</th>\n      <td>2020-08-17</td>\n      <td>11:38:13</td>\n      <td>MA</td>\n    </tr>\n    <tr>\n      <th>7235</th>\n      <td>2020-08-17</td>\n      <td>11:52:19</td>\n      <td>MI</td>\n    </tr>\n    <tr>\n      <th>7134</th>\n      <td>2020-08-17</td>\n      <td>11:57:47</td>\n      <td>MI</td>\n    </tr>\n    <tr>\n      <th>6852</th>\n      <td>2020-08-17</td>\n      <td>12:13:40</td>\n      <td>MO</td>\n    </tr>\n    <tr>\n      <th>6666</th>\n      <td>2020-08-17</td>\n      <td>12:23:30</td>\n      <td>MT</td>\n    </tr>\n    <tr>\n      <th>6407</th>\n      <td>2020-08-17</td>\n      <td>14:01:06</td>\n      <td>NJ</td>\n    </tr>\n    <tr>\n      <th>6296</th>\n      <td>2020-08-17</td>\n      <td>14:35:40</td>\n      <td>NV</td>\n    </tr>\n    <tr>\n      <th>6154</th>\n      <td>2020-08-17</td>\n      <td>14:43:57</td>\n      <td>NY</td>\n    </tr>\n    <tr>\n      <th>5638</th>\n      <td>2020-08-17</td>\n      <td>15:13:11</td>\n      <td>PA</td>\n    </tr>\n    <tr>\n      <th>4913</th>\n      <td>2020-08-17</td>\n      <td>16:20:10</td>\n      <td>TX</td>\n    </tr>\n    <tr>\n      <th>1968</th>\n      <td>2020-08-17</td>\n      <td>16:34:59</td>\n      <td>OH</td>\n    </tr>\n    <tr>\n      <th>5628</th>\n      <td>2020-08-17</td>\n      <td>16:45:40</td>\n      <td>PA</td>\n    </tr>\n    <tr>\n      <th>1971</th>\n      <td>2020-08-17</td>\n      <td>17:01:49</td>\n      <td>OH</td>\n    </tr>\n    <tr>\n      <th>8540</th>\n      <td>2020-08-17</td>\n      <td>17:05:20</td>\n      <td>IL</td>\n    </tr>\n    <tr>\n      <th>4511</th>\n      <td>2020-08-17</td>\n      <td>17:21:12</td>\n      <td>TX</td>\n    </tr>\n    <tr>\n      <th>2970</th>\n      <td>2020-08-17</td>\n      <td>17:40:59</td>\n      <td>CT</td>\n    </tr>\n    <tr>\n      <th>2824</th>\n      <td>2020-08-17</td>\n      <td>17:49:26</td>\n      <td>FL</td>\n    </tr>\n    <tr>\n      <th>2765</th>\n      <td>2020-08-17</td>\n      <td>17:53:58</td>\n      <td>FL</td>\n    </tr>\n  </tbody>\n</table>\n</div>"
     },
     "metadata": {},
     "execution_count": 30
    }
   ],
   "source": [
    "appointments = df[[\"state\", \"call_date\"]].loc[df[\"status\"] == \"APP\"]\n",
    "appointments.sort_values(by=[\"call_date\"], inplace=True)\n",
    "appointments[[\"date\",\"time\"]] = df[\"call_date\"].str.split(\" \",expand=True,)\n",
    "appointments = appointments[[\"date\",\"time\",\"state\"]]\n",
    "appointments\n"
   ]
  },
  {
   "cell_type": "code",
   "execution_count": null,
   "metadata": {},
   "outputs": [],
   "source": []
  }
 ]
}