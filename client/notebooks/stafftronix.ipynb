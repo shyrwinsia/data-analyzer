{
 "metadata": {
  "language_info": {
   "codemirror_mode": {
    "name": "ipython",
    "version": 3
   },
   "file_extension": ".py",
   "mimetype": "text/x-python",
   "name": "python",
   "nbconvert_exporter": "python",
   "pygments_lexer": "ipython3",
   "version": "3.7.6-final"
  },
  "orig_nbformat": 2,
  "kernelspec": {
   "name": "python_defaultSpec_1598723116511",
   "display_name": "Python 3.7.6 64-bit ('base': conda)"
  }
 },
 "nbformat": 4,
 "nbformat_minor": 2,
 "cells": [
  {
   "cell_type": "code",
   "execution_count": 1,
   "metadata": {},
   "outputs": [],
   "source": [
    "# Import\n",
    "import pandas as pd\n",
    "import numpy as np\n",
    "import requests"
   ]
  },
  {
   "cell_type": "code",
   "execution_count": 2,
   "metadata": {
    "tags": []
   },
   "outputs": [],
   "source": [
    "df = pd.read_csv(\"../data/report.txt\", sep='\\t')\n",
    "df.drop_duplicates(inplace=True)\n",
    "df.dropna(subset=['state','status'])\n",
    "df = df[['state','status']]"
   ]
  },
  {
   "cell_type": "code",
   "execution_count": 3,
   "metadata": {
    "tags": []
   },
   "outputs": [],
   "source": [
    "summary = pd.DataFrame(df.state.value_counts()).reset_index().rename(columns={'index': 'state', 'state': 'count'})\n",
    "summary.to_json(r'../output/summary.json',orient='records')"
   ]
  },
  {
   "cell_type": "code",
   "execution_count": 4,
   "metadata": {
    "tags": []
   },
   "outputs": [],
   "source": [
    "details = pd.DataFrame({'count': df.groupby(['state', 'status']).size()}).reset_index()\n",
    "details.to_json(r'../output/details.json',orient='records')"
   ]
  },
  {
   "cell_type": "code",
   "execution_count": 9,
   "metadata": {
    "tags": []
   },
   "outputs": [
    {
     "output_type": "stream",
     "name": "stdout",
     "text": "Uploading data.\nDone.\n"
    }
   ],
   "source": [
    "summary_json = summary.to_json(orient='records')\n",
    "details_json = details.to_json(orient='records')"
   ]
  },
  {
   "cell_type": "code",
   "execution_count": null,
   "metadata": {},
   "outputs": [],
   "source": [
    "\n",
    "json = [\n",
    "    dict([(colname, row[i]) for i, colname in enumerate(summary.columns)])\n",
    "    for row in summary.values\n",
    "]\n",
    "\n",
    "print(\"Uploading data.\")\n",
    "url = \"https://api.jsonbin.io/b/5f4a9bf6514ec5112d10f73b\"\n",
    "headers = {\"secret-key\": '$2b$10$AGZPv9GXTGfAE7Vnku2jWeltY3uvRy/BM30CeewFotub8lRbxQL1C'}\n",
    "response = requests.put(url, json=json, headers=headers).json()\n",
    "print(\"Done.\")"
   ]
  }
 ]
}